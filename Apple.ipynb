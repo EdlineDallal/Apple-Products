{
 "cells": [
  {
   "cell_type": "markdown",
   "id": "f62386ba-ad2a-4620-81f5-4412e9c50fba",
   "metadata": {
    "tags": []
   },
   "source": [
    "# INTRODUCTION\n",
    "\n",
    "<b>Title: Apple product price list 2022 in 26 countries\n",
    "\n",
    "<b>Author: Edline\n",
    "\n",
    "<b>Date: 17/11/2022</b>"
   ]
  },
  {
   "cell_type": "markdown",
   "id": "31e56828-55e4-430e-ab54-525060f2fc9c",
   "metadata": {},
   "source": [
    "# Apple product price list 2022 in 26 countries"
   ]
  },
  {
   "cell_type": "markdown",
   "id": "5176e79e-0d6a-487e-b434-bb94f6048d52",
   "metadata": {
    "tags": []
   },
   "source": [
    "### 1) ask \n",
    "\n",
    "<b>\n",
    " 1. how much each person pays for apple product in each cuntry within 26 countries\n",
    "    \n",
    " 2. what's the average of apple products in each region? \n",
    "    \n",
    " 3. what's the correlation between the World Bank income group and the product's prices\n"
   ]
  },
  {
   "cell_type": "markdown",
   "id": "25f397b0-adeb-4749-8fe5-9dbefab8b55b",
   "metadata": {
    "tags": []
   },
   "source": [
    "### 2) Prepare\n",
    "\n",
    "<b>1. the data \"Apple product price list 2022 in 26 countries\" is downloaded from Kaggle, the data is scraped from Apple gifts page (https://www.apple.com/shop/gifts) on 2-Jan-2022."
   ]
  },
  {
   "cell_type": "code",
   "execution_count": 4,
   "id": "51ae2c28-6e27-4981-a88b-d8d813b07c2f",
   "metadata": {
    "execution": {
     "iopub.execute_input": "2022-11-20T19:14:49.761766Z",
     "iopub.status.busy": "2022-11-20T19:14:49.761266Z",
     "iopub.status.idle": "2022-11-20T19:14:49.765435Z",
     "shell.execute_reply": "2022-11-20T19:14:49.764611Z",
     "shell.execute_reply.started": "2022-11-20T19:14:49.761741Z"
    },
    "tags": []
   },
   "outputs": [],
   "source": [
    "#prepare the enEnvironment\n",
    "\n",
    "import pandas as pd\n",
    "import numpy as np\n",
    "import string\n",
    "import matplotlib.pyplot as plt\n",
    "import seaborn as sns"
   ]
  },
  {
   "cell_type": "code",
   "execution_count": 5,
   "id": "4cdee842-eba2-438e-93ec-3a078a8cc103",
   "metadata": {
    "execution": {
     "iopub.execute_input": "2022-11-20T19:14:51.416675Z",
     "iopub.status.busy": "2022-11-20T19:14:51.416066Z",
     "iopub.status.idle": "2022-11-20T19:14:51.430021Z",
     "shell.execute_reply": "2022-11-20T19:14:51.429288Z",
     "shell.execute_reply.started": "2022-11-20T19:14:51.416651Z"
    },
    "tags": []
   },
   "outputs": [
    {
     "data": {
      "text/html": [
       "<div>\n",
       "<style scoped>\n",
       "    .dataframe tbody tr th:only-of-type {\n",
       "        vertical-align: middle;\n",
       "    }\n",
       "\n",
       "    .dataframe tbody tr th {\n",
       "        vertical-align: top;\n",
       "    }\n",
       "\n",
       "    .dataframe thead th {\n",
       "        text-align: right;\n",
       "    }\n",
       "</style>\n",
       "<table border=\"1\" class=\"dataframe\">\n",
       "  <thead>\n",
       "    <tr style=\"text-align: right;\">\n",
       "      <th></th>\n",
       "      <th>pid</th>\n",
       "      <th>model</th>\n",
       "      <th>price</th>\n",
       "      <th>country_code</th>\n",
       "      <th>country</th>\n",
       "      <th>region</th>\n",
       "      <th>income group</th>\n",
       "      <th>scraped_date</th>\n",
       "    </tr>\n",
       "  </thead>\n",
       "  <tbody>\n",
       "    <tr>\n",
       "      <th>0</th>\n",
       "      <td>0</td>\n",
       "      <td>iPhone 13</td>\n",
       "      <td>From A$1,199</td>\n",
       "      <td>au</td>\n",
       "      <td>Australia</td>\n",
       "      <td>East Asia &amp; Pacific</td>\n",
       "      <td>High income</td>\n",
       "      <td>2022-01-02 21:52:06.630535</td>\n",
       "    </tr>\n",
       "    <tr>\n",
       "      <th>1</th>\n",
       "      <td>1</td>\n",
       "      <td>iPhone SE</td>\n",
       "      <td>From A$679</td>\n",
       "      <td>au</td>\n",
       "      <td>Australia</td>\n",
       "      <td>East Asia &amp; Pacific</td>\n",
       "      <td>High income</td>\n",
       "      <td>2022-01-02 21:52:06.630535</td>\n",
       "    </tr>\n",
       "    <tr>\n",
       "      <th>2</th>\n",
       "      <td>2</td>\n",
       "      <td>iPhone 12</td>\n",
       "      <td>From A$999</td>\n",
       "      <td>au</td>\n",
       "      <td>Australia</td>\n",
       "      <td>East Asia &amp; Pacific</td>\n",
       "      <td>High income</td>\n",
       "      <td>2022-01-02 21:52:06.630535</td>\n",
       "    </tr>\n",
       "    <tr>\n",
       "      <th>3</th>\n",
       "      <td>3</td>\n",
       "      <td>AirPods(3rd generation)</td>\n",
       "      <td>A$279</td>\n",
       "      <td>au</td>\n",
       "      <td>Australia</td>\n",
       "      <td>East Asia &amp; Pacific</td>\n",
       "      <td>High income</td>\n",
       "      <td>2022-01-02 21:52:06.630535</td>\n",
       "    </tr>\n",
       "    <tr>\n",
       "      <th>4</th>\n",
       "      <td>4</td>\n",
       "      <td>AirPods Pro</td>\n",
       "      <td>A$399</td>\n",
       "      <td>au</td>\n",
       "      <td>Australia</td>\n",
       "      <td>East Asia &amp; Pacific</td>\n",
       "      <td>High income</td>\n",
       "      <td>2022-01-02 21:52:06.630535</td>\n",
       "    </tr>\n",
       "  </tbody>\n",
       "</table>\n",
       "</div>"
      ],
      "text/plain": [
       "   pid                    model         price country_code    country  \\\n",
       "0    0                iPhone 13  From A$1,199           au  Australia   \n",
       "1    1                iPhone SE    From A$679           au  Australia   \n",
       "2    2                iPhone 12    From A$999           au  Australia   \n",
       "3    3  AirPods(3rd generation)         A$279           au  Australia   \n",
       "4    4              AirPods Pro         A$399           au  Australia   \n",
       "\n",
       "                region income group                scraped_date  \n",
       "0  East Asia & Pacific  High income  2022-01-02 21:52:06.630535  \n",
       "1  East Asia & Pacific  High income  2022-01-02 21:52:06.630535  \n",
       "2  East Asia & Pacific  High income  2022-01-02 21:52:06.630535  \n",
       "3  East Asia & Pacific  High income  2022-01-02 21:52:06.630535  \n",
       "4  East Asia & Pacific  High income  2022-01-02 21:52:06.630535  "
      ]
     },
     "execution_count": 5,
     "metadata": {},
     "output_type": "execute_result"
    }
   ],
   "source": [
    "#read the file\n",
    "# show the 5 first rows of the data\n",
    "df= pd.read_csv('apple product price list from 26 countries.csv')\n",
    "df.head(5)"
   ]
  },
  {
   "cell_type": "code",
   "execution_count": 6,
   "id": "c2a49dca-7bbe-49af-8c61-d9a00bf5510e",
   "metadata": {
    "execution": {
     "iopub.execute_input": "2022-11-20T19:14:54.373087Z",
     "iopub.status.busy": "2022-11-20T19:14:54.372573Z",
     "iopub.status.idle": "2022-11-20T19:14:54.383160Z",
     "shell.execute_reply": "2022-11-20T19:14:54.382422Z",
     "shell.execute_reply.started": "2022-11-20T19:14:54.373062Z"
    },
    "tags": []
   },
   "outputs": [
    {
     "name": "stdout",
     "output_type": "stream",
     "text": [
      "<class 'pandas.core.frame.DataFrame'>\n",
      "RangeIndex: 448 entries, 0 to 447\n",
      "Data columns (total 8 columns):\n",
      " #   Column        Non-Null Count  Dtype \n",
      "---  ------        --------------  ----- \n",
      " 0   pid           448 non-null    int64 \n",
      " 1   model         448 non-null    object\n",
      " 2   price         448 non-null    object\n",
      " 3   country_code  448 non-null    object\n",
      " 4   country       448 non-null    object\n",
      " 5   region        448 non-null    object\n",
      " 6   income group  448 non-null    object\n",
      " 7   scraped_date  448 non-null    object\n",
      "dtypes: int64(1), object(7)\n",
      "memory usage: 28.1+ KB\n"
     ]
    }
   ],
   "source": [
    "# discover the dataframe\n",
    "# check out how many columns, name of the columns, type of the columns, what libraries you need to use in the analysis  \n",
    "#get info and shape\n",
    "\n",
    "df.info()"
   ]
  },
  {
   "cell_type": "markdown",
   "id": "155fff55-929b-431a-b60e-3a60af5594db",
   "metadata": {
    "execution": {
     "iopub.execute_input": "2022-11-17T18:37:16.288745Z",
     "iopub.status.busy": "2022-11-17T18:37:16.288469Z",
     "iopub.status.idle": "2022-11-17T18:37:16.293719Z",
     "shell.execute_reply": "2022-11-17T18:37:16.292749Z",
     "shell.execute_reply.started": "2022-11-17T18:37:16.288721Z"
    }
   },
   "source": [
    "<b> the scraped_date column is not defined as datetime, for now there no need to tranform it</b>"
   ]
  },
  {
   "cell_type": "code",
   "execution_count": 7,
   "id": "2252778b-4393-4332-873d-8e968dbfb419",
   "metadata": {
    "execution": {
     "iopub.execute_input": "2022-11-20T19:14:57.993765Z",
     "iopub.status.busy": "2022-11-20T19:14:57.993490Z",
     "iopub.status.idle": "2022-11-20T19:14:57.998685Z",
     "shell.execute_reply": "2022-11-20T19:14:57.997796Z",
     "shell.execute_reply.started": "2022-11-20T19:14:57.993731Z"
    },
    "tags": []
   },
   "outputs": [
    {
     "data": {
      "text/plain": [
       "(448, 8)"
      ]
     },
     "execution_count": 7,
     "metadata": {},
     "output_type": "execute_result"
    }
   ],
   "source": [
    "df.shape"
   ]
  },
  {
   "cell_type": "markdown",
   "id": "257a7632-4a3d-49ee-b12c-bb98f3d4a8cd",
   "metadata": {},
   "source": [
    "<b>shape of df is 8 columns and 448 rows</b>"
   ]
  },
  {
   "cell_type": "code",
   "execution_count": null,
   "id": "27284525-3742-4933-8d80-aaa32adbfe1b",
   "metadata": {
    "tags": []
   },
   "outputs": [],
   "source": [
    "#check for null values \n",
    "df.isnull().sum()"
   ]
  },
  {
   "cell_type": "markdown",
   "id": "b21bf3ff-4871-4327-bcb0-ad652c437eb5",
   "metadata": {},
   "source": [
    "<b>df does not contain null values</b>"
   ]
  },
  {
   "cell_type": "code",
   "execution_count": 9,
   "id": "2ed44b90-bc3c-40d4-be6f-26f4acd26546",
   "metadata": {
    "execution": {
     "iopub.execute_input": "2022-11-20T19:15:47.189039Z",
     "iopub.status.busy": "2022-11-20T19:15:47.188750Z",
     "iopub.status.idle": "2022-11-20T19:15:47.194550Z",
     "shell.execute_reply": "2022-11-20T19:15:47.193743Z",
     "shell.execute_reply.started": "2022-11-20T19:15:47.189015Z"
    },
    "tags": []
   },
   "outputs": [],
   "source": [
    "#removing the prices plan in the price column after the string \"or\"\n",
    "df['price2']=df['price'].str.split('or', 1, expand=True)[0]"
   ]
  },
  {
   "cell_type": "code",
   "execution_count": 11,
   "id": "bbf401a3-b61f-49fd-9a62-97fc72b3a68e",
   "metadata": {
    "execution": {
     "iopub.execute_input": "2022-11-20T19:16:31.909881Z",
     "iopub.status.busy": "2022-11-20T19:16:31.909605Z",
     "iopub.status.idle": "2022-11-20T19:16:31.914625Z",
     "shell.execute_reply": "2022-11-20T19:16:31.913828Z",
     "shell.execute_reply.started": "2022-11-20T19:16:31.909856Z"
    },
    "tags": []
   },
   "outputs": [],
   "source": [
    "#deleting any characters in the price 2 column\n",
    "df['price2']=df['price2'].str.replace('[^\\d\\.\\,]', '', regex=True)"
   ]
  },
  {
   "cell_type": "code",
   "execution_count": 13,
   "id": "6684ae26-4b02-4564-b9ea-74f2d472e209",
   "metadata": {
    "execution": {
     "iopub.execute_input": "2022-11-20T19:17:02.441556Z",
     "iopub.status.busy": "2022-11-20T19:17:02.441070Z",
     "iopub.status.idle": "2022-11-20T19:17:02.446949Z",
     "shell.execute_reply": "2022-11-20T19:17:02.445997Z",
     "shell.execute_reply.started": "2022-11-20T19:17:02.441531Z"
    },
    "tags": []
   },
   "outputs": [
    {
     "data": {
      "text/plain": [
       "array(['Australia', 'Austria', 'Brazil', 'Canada', 'Czech Republic',\n",
       "       'Germany', 'Denmark', 'Spain', 'Finland', 'France', 'Hungary',\n",
       "       'India', 'Ireland', 'Italy', 'Luxembourg', 'Mexico', 'Netherlands',\n",
       "       'Norway', 'Philippines', 'Poland', 'Portugal', 'Russia', 'Sweden',\n",
       "       'Thailand', 'Turkey', 'United States'], dtype=object)"
      ]
     },
     "execution_count": 13,
     "metadata": {},
     "output_type": "execute_result"
    }
   ],
   "source": [
    "#checking how many countries are in the column \"country\"\n",
    "df['country'].unique()"
   ]
  },
  {
   "cell_type": "code",
   "execution_count": 14,
   "id": "7102d4e5-7728-42f9-874a-edb2451a4443",
   "metadata": {
    "execution": {
     "iopub.execute_input": "2022-11-20T19:17:35.258931Z",
     "iopub.status.busy": "2022-11-20T19:17:35.258463Z",
     "iopub.status.idle": "2022-11-20T19:17:35.306082Z",
     "shell.execute_reply": "2022-11-20T19:17:35.305296Z",
     "shell.execute_reply.started": "2022-11-20T19:17:35.258905Z"
    },
    "tags": []
   },
   "outputs": [],
   "source": [
    "#cleaning prices and converting them to the same format \n",
    "#australia \n",
    "df.loc[df['country'] == 'Australia', 'price4'] = df['price2'].str.replace(\",\",\"\" , regex=True)\n",
    "#austria\n",
    "df.loc[df['country'] == 'Austria', 'price4'] = df['price2'].str.replace(\".\",\"\" , regex=True)\n",
    "#brazil\n",
    "df.loc[df['country'] == 'Brazil', 'price4'] = df['price2'].str.replace(\".\",\"\" , regex=True)\n",
    "#germany\n",
    "df.loc[df['country'] == 'Germany', 'price3'] = df['price2'].str.replace(\".\", \"\", regex=True)\n",
    "df.loc[df['country'] == 'Germany', 'price4'] = df['price3'].str.replace(\",\", \".\", regex=True)\n",
    "#denmark\n",
    "df.loc[df['country'] == 'Denmark', 'price4'] = df['price2'].str.replace(\".\", \"\", regex=True)\n",
    "#spain\n",
    "df.loc[df['country'] == 'Spain', 'price4'] = df['price2'].str.replace(\".\", \"\", regex=True)\n",
    "#Ireland \n",
    "df.loc[df['country'] == 'Ireland', 'price4'] = df['price2'].str.replace(\",\",\"\" , regex=True)\n",
    "#Italy\n",
    "df.loc[df['country'] == 'Italy', 'price4'] = df['price2'].str.replace(\".\", \"\", regex=True)\n",
    "# Luxembourg\n",
    "df.loc[df['country'] == 'Luxembourg', 'price4'] = df['price2'].str.replace(\",\",\".\" , regex=True)\n",
    "#mexico\n",
    "df.loc[df['country'] == 'Mexico', 'price4'] = df['price2'].str.replace(\",\",\"\" , regex=True)\n",
    "# Netherlands\n",
    "df.loc[df['country'] == 'Netherlands', 'price3'] = df['price2'].str.replace(\".\",\"\" , regex=True)\n",
    "df.loc[df['country'] == 'Netherlands', 'price4'] = df['price3'].str.replace(\",\",\".\" , regex=True)\n",
    "# Philippines\n",
    "df.loc[df['country'] == 'Philippines', 'price4'] = df['price2'].str.replace(\",\",\"\" , regex=True)\n",
    "#russia \n",
    "df.loc[df['country'] == 'Russia', 'price4'] = df['price2'].str.replace(\".\",\"\" , regex=True)\n",
    "#thailand \n",
    "df.loc[df['country'] == 'Thailand', 'price4'] = df['price2'].str.replace(\",\",\"\" , regex=True)\n",
    "#turkey\n",
    "df.loc[df['country'] == 'Turkey', 'price4'] = df['price2'].str.replace(\".\",\"\" , regex=True)\n",
    "\n",
    "#copy the other countries prices to the same column \"price 4\"\n",
    "df.loc[df['country'] == 'United States', 'price4'] = df['price2']\n",
    "df.loc[df['country'] == 'Canada', 'price4'] = df['price2']\n",
    "df.loc[df['country'] == 'Czech Republic', 'price4'] = df['price2']\n",
    "df.loc[df['country'] == 'Finland', 'price4'] = df['price2']\n",
    "df.loc[df['country'] == 'France', 'price4'] = df['price2']\n",
    "df.loc[df['country'] == 'Hungary', 'price4'] = df['price2']\n",
    "df.loc[df['country'] == 'India', 'price4'] = df['price2']\n",
    "df.loc[df['country'] == 'Norway', 'price4'] = df['price2']\n",
    "df.loc[df['country'] == 'Poland', 'price4'] = df['price2']\n",
    "df.loc[df['country'] == 'Portugal', 'price4'] = df['price2']\n",
    "df.loc[df['country'] == 'Sweden', 'price4'] = df['price2']"
   ]
  },
  {
   "cell_type": "code",
   "execution_count": 15,
   "id": "5f63911d-a087-4e9b-8abe-945144c14af0",
   "metadata": {
    "execution": {
     "iopub.execute_input": "2022-11-20T19:17:38.039333Z",
     "iopub.status.busy": "2022-11-20T19:17:38.039058Z",
     "iopub.status.idle": "2022-11-20T19:17:38.044093Z",
     "shell.execute_reply": "2022-11-20T19:17:38.043185Z",
     "shell.execute_reply.started": "2022-11-20T19:17:38.039309Z"
    },
    "tags": []
   },
   "outputs": [],
   "source": [
    "#dropping the columns price 2 and price3 after cleaning the price column \n",
    "df= df.drop(columns=['price3', 'price2'])"
   ]
  },
  {
   "cell_type": "code",
   "execution_count": 16,
   "id": "13137782-be9e-44dc-83ed-945bf6c6f392",
   "metadata": {
    "execution": {
     "iopub.execute_input": "2022-11-20T19:17:38.784021Z",
     "iopub.status.busy": "2022-11-20T19:17:38.783698Z",
     "iopub.status.idle": "2022-11-20T19:17:38.788351Z",
     "shell.execute_reply": "2022-11-20T19:17:38.787681Z",
     "shell.execute_reply.started": "2022-11-20T19:17:38.783990Z"
    },
    "tags": []
   },
   "outputs": [],
   "source": [
    "# transform price2 column to numeric\n",
    "df['price4']= pd.to_numeric(df['price4'])"
   ]
  },
  {
   "cell_type": "code",
   "execution_count": 18,
   "id": "82b341af-03fe-4a88-8991-5d36a642c9b3",
   "metadata": {
    "execution": {
     "iopub.execute_input": "2022-11-20T19:18:12.202354Z",
     "iopub.status.busy": "2022-11-20T19:18:12.201870Z",
     "iopub.status.idle": "2022-11-20T19:18:12.206740Z",
     "shell.execute_reply": "2022-11-20T19:18:12.205825Z",
     "shell.execute_reply.started": "2022-11-20T19:18:12.202329Z"
    },
    "tags": []
   },
   "outputs": [],
   "source": [
    "# make the country code upper string \n",
    "df['country_code']= df['country_code'].str.upper()"
   ]
  },
  {
   "cell_type": "code",
   "execution_count": 19,
   "id": "4c5e8356-dd7f-40c3-a3c5-3c8bf18cea6d",
   "metadata": {
    "execution": {
     "iopub.execute_input": "2022-11-20T19:18:14.225915Z",
     "iopub.status.busy": "2022-11-20T19:18:14.225622Z",
     "iopub.status.idle": "2022-11-20T19:18:14.230780Z",
     "shell.execute_reply": "2022-11-20T19:18:14.230008Z",
     "shell.execute_reply.started": "2022-11-20T19:18:14.225887Z"
    },
    "tags": []
   },
   "outputs": [
    {
     "name": "stdout",
     "output_type": "stream",
     "text": [
      " Total unique country code: 26 \n",
      " Unique codes: ['AU' 'AT' 'BR' 'CA' 'CZ' 'DE' 'DK' 'ES' 'FI' 'FR' 'HU' 'IN' 'IE' 'IT'\n",
      " 'LU' 'MX' 'NL' 'NO' 'PH' 'PL' 'PT' 'RU' 'SE' 'TH' 'TR' 'US']\n"
     ]
    }
   ],
   "source": [
    "#check the 26 countries in df before joining tables\n",
    "print(' Total unique country code:', len(df['country_code'].unique()), '\\n Unique codes:',df['country_code'].unique() )"
   ]
  },
  {
   "cell_type": "code",
   "execution_count": 20,
   "id": "92e6f595-3559-48dd-a426-71551f803c11",
   "metadata": {
    "execution": {
     "iopub.execute_input": "2022-11-20T19:18:25.464926Z",
     "iopub.status.busy": "2022-11-20T19:18:25.464650Z",
     "iopub.status.idle": "2022-11-20T19:18:25.468853Z",
     "shell.execute_reply": "2022-11-20T19:18:25.468043Z",
     "shell.execute_reply.started": "2022-11-20T19:18:25.464892Z"
    },
    "tags": []
   },
   "outputs": [],
   "source": [
    "def filter(regex_pat=\".\"):\n",
    "    return df[(df[\"country\"].str.contains(regex_pat, regex=True, case=False))].sort_values(\n",
    "        \"pid\", ascending=True\n",
    "    )"
   ]
  },
  {
   "cell_type": "code",
   "execution_count": 21,
   "id": "8e77cb44-8dbc-4da8-8293-29d31a4125ef",
   "metadata": {
    "execution": {
     "iopub.execute_input": "2022-11-20T19:18:49.711604Z",
     "iopub.status.busy": "2022-11-20T19:18:49.711329Z",
     "iopub.status.idle": "2022-11-20T19:18:50.318921Z",
     "shell.execute_reply": "2022-11-20T19:18:50.318073Z",
     "shell.execute_reply.started": "2022-11-20T19:18:49.711570Z"
    },
    "tags": []
   },
   "outputs": [],
   "source": [
    "#read countries data(currencies, code, apha code)\n",
    "currencies_code=pd.read_csv('https://raw.githubusercontent.com/prasertcbs/basic-dataset/master/country%20and%20currency%20code.csv')\n",
    "currencies_code=currencies_code.drop_duplicates(subset=['Alpha2 Code']).reset_index(drop=True)"
   ]
  },
  {
   "cell_type": "code",
   "execution_count": 22,
   "id": "2237ca30-7716-48a1-8533-67a35b11f3c7",
   "metadata": {
    "execution": {
     "iopub.execute_input": "2022-11-20T19:18:50.379975Z",
     "iopub.status.busy": "2022-11-20T19:18:50.379683Z",
     "iopub.status.idle": "2022-11-20T19:18:50.386602Z",
     "shell.execute_reply": "2022-11-20T19:18:50.385812Z",
     "shell.execute_reply.started": "2022-11-20T19:18:50.379946Z"
    },
    "tags": []
   },
   "outputs": [],
   "source": [
    "# join all columns from df and 2 columns from dc dataframe to one table to get currency code and aplha code.\n",
    "df=pd.merge(df, currencies_code[['Alpha2 Code', 'Currency CodeA']], how='inner', left_on='country_code', right_on='Alpha2 Code')"
   ]
  },
  {
   "cell_type": "code",
   "execution_count": 23,
   "id": "6a03f162-bace-47a8-a02c-9e34bb6656a1",
   "metadata": {
    "execution": {
     "iopub.execute_input": "2022-11-20T19:18:50.863441Z",
     "iopub.status.busy": "2022-11-20T19:18:50.863169Z",
     "iopub.status.idle": "2022-11-20T19:18:50.868432Z",
     "shell.execute_reply": "2022-11-20T19:18:50.867677Z",
     "shell.execute_reply.started": "2022-11-20T19:18:50.863414Z"
    },
    "tags": []
   },
   "outputs": [
    {
     "name": "stdout",
     "output_type": "stream",
     "text": [
      " Total unique country code: 26 \n",
      " Unique codes: ['AU' 'AT' 'BR' 'CA' 'CZ' 'DE' 'DK' 'ES' 'FI' 'FR' 'HU' 'IN' 'IE' 'IT'\n",
      " 'LU' 'MX' 'NL' 'NO' 'PH' 'PL' 'PT' 'RU' 'SE' 'TH' 'TR' 'US']\n"
     ]
    }
   ],
   "source": [
    "#check the 26 countries again to insure the main df doesn't change\n",
    "print(' Total unique country code:', len(df['country_code'].unique()), '\\n Unique codes:',df['country_code'].unique() )"
   ]
  },
  {
   "cell_type": "code",
   "execution_count": 24,
   "id": "60eb6c2c-6a2f-499e-9076-f6f2638eb1d0",
   "metadata": {
    "execution": {
     "iopub.execute_input": "2022-11-20T19:18:51.485656Z",
     "iopub.status.busy": "2022-11-20T19:18:51.485306Z",
     "iopub.status.idle": "2022-11-20T19:18:51.490401Z",
     "shell.execute_reply": "2022-11-20T19:18:51.489631Z",
     "shell.execute_reply.started": "2022-11-20T19:18:51.485630Z"
    },
    "tags": []
   },
   "outputs": [
    {
     "name": "stdout",
     "output_type": "stream",
     "text": [
      " Total unique country code: 17 \n",
      " Unique codes: ['AUD' 'EUR' 'BRL' 'CAD' 'CZK' 'DKK' 'HUF' 'INR' 'MXN' 'NOK' 'PHP' 'PLN'\n",
      " 'RUB' 'SEK' 'THB' 'TRL' 'USD']\n"
     ]
    }
   ],
   "source": [
    "#check how many curriencies are in df\n",
    "print(' Total unique country code:', len(df['Currency CodeA'].unique()), '\\n Unique codes:',df['Currency CodeA'].unique())"
   ]
  },
  {
   "cell_type": "code",
   "execution_count": 25,
   "id": "eede292f-bb70-411b-81a6-e8b08caaa59c",
   "metadata": {
    "execution": {
     "iopub.execute_input": "2022-11-20T19:18:51.997064Z",
     "iopub.status.busy": "2022-11-20T19:18:51.996750Z",
     "iopub.status.idle": "2022-11-20T19:18:52.008066Z",
     "shell.execute_reply": "2022-11-20T19:18:52.007303Z",
     "shell.execute_reply.started": "2022-11-20T19:18:51.997032Z"
    },
    "tags": []
   },
   "outputs": [
    {
     "data": {
      "text/html": [
       "<div>\n",
       "<style scoped>\n",
       "    .dataframe tbody tr th:only-of-type {\n",
       "        vertical-align: middle;\n",
       "    }\n",
       "\n",
       "    .dataframe tbody tr th {\n",
       "        vertical-align: top;\n",
       "    }\n",
       "\n",
       "    .dataframe thead th {\n",
       "        text-align: right;\n",
       "    }\n",
       "</style>\n",
       "<table border=\"1\" class=\"dataframe\">\n",
       "  <thead>\n",
       "    <tr style=\"text-align: right;\">\n",
       "      <th></th>\n",
       "      <th>Date</th>\n",
       "      <th>Currency CodeA</th>\n",
       "      <th>X</th>\n",
       "    </tr>\n",
       "  </thead>\n",
       "  <tbody>\n",
       "    <tr>\n",
       "      <th>0</th>\n",
       "      <td>04/01/2022</td>\n",
       "      <td>AUD</td>\n",
       "      <td>1.38619</td>\n",
       "    </tr>\n",
       "    <tr>\n",
       "      <th>1</th>\n",
       "      <td>04/01/2022</td>\n",
       "      <td>EUR</td>\n",
       "      <td>0.88460</td>\n",
       "    </tr>\n",
       "    <tr>\n",
       "      <th>2</th>\n",
       "      <td>04/01/2022</td>\n",
       "      <td>BRL</td>\n",
       "      <td>5.66070</td>\n",
       "    </tr>\n",
       "    <tr>\n",
       "      <th>3</th>\n",
       "      <td>04/01/2022</td>\n",
       "      <td>CAD</td>\n",
       "      <td>1.27440</td>\n",
       "    </tr>\n",
       "    <tr>\n",
       "      <th>4</th>\n",
       "      <td>04/01/2022</td>\n",
       "      <td>CZK</td>\n",
       "      <td>21.94400</td>\n",
       "    </tr>\n",
       "  </tbody>\n",
       "</table>\n",
       "</div>"
      ],
      "text/plain": [
       "         Date Currency CodeA         X\n",
       "0  04/01/2022            AUD   1.38619\n",
       "1  04/01/2022            EUR   0.88460\n",
       "2  04/01/2022            BRL   5.66070\n",
       "3  04/01/2022            CAD   1.27440\n",
       "4  04/01/2022            CZK  21.94400"
      ]
     },
     "execution_count": 25,
     "metadata": {},
     "output_type": "execute_result"
    }
   ],
   "source": [
    "#read currencies file\n",
    "currencies= pd.read_csv('exchange rate.csv')\n",
    "currencies.head()"
   ]
  },
  {
   "cell_type": "code",
   "execution_count": 26,
   "id": "a497aa81-67a8-4e86-b371-787dc9996bc8",
   "metadata": {
    "execution": {
     "iopub.execute_input": "2022-11-20T19:18:54.108520Z",
     "iopub.status.busy": "2022-11-20T19:18:54.108203Z",
     "iopub.status.idle": "2022-11-20T19:18:54.114121Z",
     "shell.execute_reply": "2022-11-20T19:18:54.113405Z",
     "shell.execute_reply.started": "2022-11-20T19:18:54.108488Z"
    },
    "tags": []
   },
   "outputs": [
    {
     "data": {
      "text/plain": [
       "array(['AUD', 'EUR', 'BRL', 'CAD', 'CZK', 'DKK', 'HUF', 'INR', 'MXN',\n",
       "       'NOK', 'PHP', 'PLN', 'RUB', 'SEK', 'THB', 'TRL', 'USD'],\n",
       "      dtype=object)"
      ]
     },
     "execution_count": 26,
     "metadata": {},
     "output_type": "execute_result"
    }
   ],
   "source": [
    "#checking the currencies in the dataset\n",
    "currencies['Currency CodeA'].unique()"
   ]
  },
  {
   "cell_type": "code",
   "execution_count": 27,
   "id": "431e0f18-9c52-4471-8e2b-20c2f4ac40ec",
   "metadata": {
    "execution": {
     "iopub.execute_input": "2022-11-20T19:18:54.419328Z",
     "iopub.status.busy": "2022-11-20T19:18:54.419068Z",
     "iopub.status.idle": "2022-11-20T19:18:54.426021Z",
     "shell.execute_reply": "2022-11-20T19:18:54.425295Z",
     "shell.execute_reply.started": "2022-11-20T19:18:54.419303Z"
    },
    "tags": []
   },
   "outputs": [],
   "source": [
    "# join new df with currencies dataframe to get the exchange rate\n",
    "df=pd.merge(df, currencies[['Currency CodeA', 'X']], how='outer', left_on='Currency CodeA', right_on='Currency CodeA')"
   ]
  },
  {
   "cell_type": "code",
   "execution_count": 28,
   "id": "d7262cdf-f76a-44ec-8bad-3efaa9075530",
   "metadata": {
    "execution": {
     "iopub.execute_input": "2022-11-20T19:18:54.781414Z",
     "iopub.status.busy": "2022-11-20T19:18:54.781072Z",
     "iopub.status.idle": "2022-11-20T19:18:54.785961Z",
     "shell.execute_reply": "2022-11-20T19:18:54.785028Z",
     "shell.execute_reply.started": "2022-11-20T19:18:54.781385Z"
    },
    "tags": []
   },
   "outputs": [],
   "source": [
    "# calculate usd currency for all countries \n",
    "df['price_usd']= (df['price4']/df['X'])"
   ]
  },
  {
   "cell_type": "code",
   "execution_count": 30,
   "id": "b30451fd-fa6f-4c76-8a9f-7873d3e61956",
   "metadata": {
    "execution": {
     "iopub.execute_input": "2022-11-20T19:19:51.785104Z",
     "iopub.status.busy": "2022-11-20T19:19:51.784665Z",
     "iopub.status.idle": "2022-11-20T19:19:51.801635Z",
     "shell.execute_reply": "2022-11-20T19:19:51.800977Z",
     "shell.execute_reply.started": "2022-11-20T19:19:51.785070Z"
    },
    "tags": []
   },
   "outputs": [
    {
     "data": {
      "text/plain": [
       "array(['iPhone 13', 'iPhone SE', 'iPhone 12', 'AirPods(3nd generation)',\n",
       "       'AirPods Pro', 'AirPods(2nd generation)', 'AirPods Max',\n",
       "       'Apple TV 4K', 'Apple Watch SE', 'Apple Watch Series 3',\n",
       "       'Sport Band', 'iPad', 'iPad Pro', 'Apple Pencil(2nd generation)',\n",
       "       '24-inch iMac', 'MacBook Air', 'Magic Mouse', 'Apple TV HD',\n",
       "       'iPhone 13 Pro', 'App Store and iTunes Gift Card'], dtype=object)"
      ]
     },
     "execution_count": 30,
     "metadata": {},
     "output_type": "execute_result"
    }
   ],
   "source": [
    "#cleaning the model column to the same products name\n",
    "df['model_unique']= df['model']\n",
    "# imac 24 clean\n",
    "df.loc[df['model'].str.contains('imac', case= False),'model_unique']= '24-inch iMac'\n",
    "#airpods 2nd generation clean\n",
    "df.loc[df['model'].str.contains('airpods\\(2|airpods\\(andr|airpods\\(seco|airpods\\(segu|AirPods\\(รุ่นที่\\ 2', case= False),'model_unique'] = 'AirPods(2nd generation)'\n",
    "#airpods 3nd generation clean\n",
    "df.loc[df['model'].str.contains('airpods\\(3|airpods\\(ter|airpods\\(tre|AirPods\\(รุ่นที่\\ 3', case= False),'model_unique'] = 'AirPods(3nd generation)'\n",
    "#pencil generation clean\n",
    "df.loc[df['model'].str.contains('Pencil', case= False),'model_unique'] = 'Apple Pencil(2nd generation)'\n",
    "#sport  bracelet clean\n",
    "df.loc[df['model'].str.contains('Sport Band|Urheiluranneke|ремешок|Spor|Sportovní|Sportszíj|Sportsrem|esportiva|Sportbandje|deportiva|Sportband|Bracelet|Cinturino|Sportbandje|Sportbandje|Sportarmband|sportowy', case= False),'model_unique'] = 'Sport Band'\n",
    "#mouse generation clean\n",
    "df.loc[df['model'].str.contains('Magic Mouse', case= False),'model_unique'] = 'Magic Mouse'\n",
    "#apple store clean\n",
    "df.loc[df['model'].str.contains('store|itunes', case= False),'model_unique'] = 'App Store and iTunes Gift Card'\n",
    "df['model_unique'].unique()"
   ]
  },
  {
   "cell_type": "code",
   "execution_count": 31,
   "id": "8e733b8a-7a54-409b-ab66-44bc816261fb",
   "metadata": {
    "execution": {
     "iopub.execute_input": "2022-11-20T19:19:51.989294Z",
     "iopub.status.busy": "2022-11-20T19:19:51.989033Z",
     "iopub.status.idle": "2022-11-20T19:19:51.993469Z",
     "shell.execute_reply": "2022-11-20T19:19:51.992456Z",
     "shell.execute_reply.started": "2022-11-20T19:19:51.989269Z"
    },
    "tags": []
   },
   "outputs": [],
   "source": [
    "#preparing the column of product group \n",
    "df['product_group'] =df['model_unique'] "
   ]
  },
  {
   "cell_type": "code",
   "execution_count": 33,
   "id": "e23a9a37-ec48-4c92-b85c-1d09bf2038e1",
   "metadata": {
    "execution": {
     "iopub.execute_input": "2022-11-20T19:20:25.305329Z",
     "iopub.status.busy": "2022-11-20T19:20:25.304927Z",
     "iopub.status.idle": "2022-11-20T19:20:25.319619Z",
     "shell.execute_reply": "2022-11-20T19:20:25.318978Z",
     "shell.execute_reply.started": "2022-11-20T19:20:25.305286Z"
    },
    "tags": []
   },
   "outputs": [
    {
     "data": {
      "text/plain": [
       "array(['iphone', 'AirPods', 'Apple Tv', 'Apple Watch', 'Accessories',\n",
       "       'ipad', 'Mac', 'App Store and iTunes Gift Card'], dtype=object)"
      ]
     },
     "execution_count": 33,
     "metadata": {},
     "output_type": "execute_result"
    }
   ],
   "source": [
    "##cleaning the product group column to the same product group name\n",
    "\n",
    "# Mac group \n",
    "df.loc[df['model_unique'].str.contains('imac|MacBook', case= False),'product_group']= 'Mac'\n",
    "# TV group \n",
    "df.loc[df['model_unique'].str.contains('tv', case= False),'product_group']= 'Apple Tv'\n",
    "# ipad group \n",
    "df.loc[df['model_unique'].str.contains('ipad', case= False),'product_group']= 'ipad'\n",
    "#airpods group\n",
    "df.loc[df['model_unique'].str.contains('airpods', case= False),'product_group'] = 'AirPods'\n",
    "#iphone group\n",
    "df.loc[df['model_unique'].str.contains('iphone', case= False),'product_group'] = 'iphone'\n",
    "#sport  bracelet clea\n",
    "df.loc[df['model_unique'].str.contains('watch', case= False),'product_group'] = 'Apple Watch'\n",
    "#mouse generation clean\n",
    "df.loc[df['model_unique'].str.contains('Magic Mouse|Pencil|sport', case= False),'product_group']  = 'Accessories'\n",
    "df['product_group'].unique()"
   ]
  },
  {
   "cell_type": "code",
   "execution_count": 34,
   "id": "0fcd8052-b413-46f2-a4fb-dee3620cd51b",
   "metadata": {
    "execution": {
     "iopub.execute_input": "2022-11-20T19:21:40.469528Z",
     "iopub.status.busy": "2022-11-20T19:21:40.469166Z",
     "iopub.status.idle": "2022-11-20T19:21:40.484159Z",
     "shell.execute_reply": "2022-11-20T19:21:40.483487Z",
     "shell.execute_reply.started": "2022-11-20T19:21:40.469494Z"
    },
    "tags": []
   },
   "outputs": [
    {
     "data": {
      "text/html": [
       "<div>\n",
       "<style scoped>\n",
       "    .dataframe tbody tr th:only-of-type {\n",
       "        vertical-align: middle;\n",
       "    }\n",
       "\n",
       "    .dataframe tbody tr th {\n",
       "        vertical-align: top;\n",
       "    }\n",
       "\n",
       "    .dataframe thead th {\n",
       "        text-align: right;\n",
       "    }\n",
       "</style>\n",
       "<table border=\"1\" class=\"dataframe\">\n",
       "  <thead>\n",
       "    <tr style=\"text-align: right;\">\n",
       "      <th></th>\n",
       "      <th>product_group</th>\n",
       "      <th>model_unique</th>\n",
       "      <th>price_usd</th>\n",
       "      <th>country</th>\n",
       "      <th>country_code</th>\n",
       "      <th>region</th>\n",
       "      <th>income group</th>\n",
       "    </tr>\n",
       "  </thead>\n",
       "  <tbody>\n",
       "    <tr>\n",
       "      <th>0</th>\n",
       "      <td>iphone</td>\n",
       "      <td>iPhone 13</td>\n",
       "      <td>864.960756</td>\n",
       "      <td>Australia</td>\n",
       "      <td>AU</td>\n",
       "      <td>East Asia &amp; Pacific</td>\n",
       "      <td>High income</td>\n",
       "    </tr>\n",
       "    <tr>\n",
       "      <th>1</th>\n",
       "      <td>iphone</td>\n",
       "      <td>iPhone SE</td>\n",
       "      <td>489.831821</td>\n",
       "      <td>Australia</td>\n",
       "      <td>AU</td>\n",
       "      <td>East Asia &amp; Pacific</td>\n",
       "      <td>High income</td>\n",
       "    </tr>\n",
       "    <tr>\n",
       "      <th>2</th>\n",
       "      <td>iphone</td>\n",
       "      <td>iPhone 12</td>\n",
       "      <td>720.680397</td>\n",
       "      <td>Australia</td>\n",
       "      <td>AU</td>\n",
       "      <td>East Asia &amp; Pacific</td>\n",
       "      <td>High income</td>\n",
       "    </tr>\n",
       "    <tr>\n",
       "      <th>3</th>\n",
       "      <td>AirPods</td>\n",
       "      <td>AirPods(3nd generation)</td>\n",
       "      <td>201.271102</td>\n",
       "      <td>Australia</td>\n",
       "      <td>AU</td>\n",
       "      <td>East Asia &amp; Pacific</td>\n",
       "      <td>High income</td>\n",
       "    </tr>\n",
       "    <tr>\n",
       "      <th>4</th>\n",
       "      <td>AirPods</td>\n",
       "      <td>AirPods Pro</td>\n",
       "      <td>287.839318</td>\n",
       "      <td>Australia</td>\n",
       "      <td>AU</td>\n",
       "      <td>East Asia &amp; Pacific</td>\n",
       "      <td>High income</td>\n",
       "    </tr>\n",
       "    <tr>\n",
       "      <th>...</th>\n",
       "      <td>...</td>\n",
       "      <td>...</td>\n",
       "      <td>...</td>\n",
       "      <td>...</td>\n",
       "      <td>...</td>\n",
       "      <td>...</td>\n",
       "      <td>...</td>\n",
       "    </tr>\n",
       "    <tr>\n",
       "      <th>443</th>\n",
       "      <td>ipad</td>\n",
       "      <td>iPad Pro</td>\n",
       "      <td>799.000000</td>\n",
       "      <td>United States</td>\n",
       "      <td>US</td>\n",
       "      <td>North America</td>\n",
       "      <td>High income</td>\n",
       "    </tr>\n",
       "    <tr>\n",
       "      <th>444</th>\n",
       "      <td>Accessories</td>\n",
       "      <td>Apple Pencil(2nd generation)</td>\n",
       "      <td>129.000000</td>\n",
       "      <td>United States</td>\n",
       "      <td>US</td>\n",
       "      <td>North America</td>\n",
       "      <td>High income</td>\n",
       "    </tr>\n",
       "    <tr>\n",
       "      <th>445</th>\n",
       "      <td>Mac</td>\n",
       "      <td>24-inch iMac</td>\n",
       "      <td>1299.000000</td>\n",
       "      <td>United States</td>\n",
       "      <td>US</td>\n",
       "      <td>North America</td>\n",
       "      <td>High income</td>\n",
       "    </tr>\n",
       "    <tr>\n",
       "      <th>446</th>\n",
       "      <td>Mac</td>\n",
       "      <td>MacBook Air</td>\n",
       "      <td>999.000000</td>\n",
       "      <td>United States</td>\n",
       "      <td>US</td>\n",
       "      <td>North America</td>\n",
       "      <td>High income</td>\n",
       "    </tr>\n",
       "    <tr>\n",
       "      <th>447</th>\n",
       "      <td>Accessories</td>\n",
       "      <td>Magic Mouse</td>\n",
       "      <td>79.000000</td>\n",
       "      <td>United States</td>\n",
       "      <td>US</td>\n",
       "      <td>North America</td>\n",
       "      <td>High income</td>\n",
       "    </tr>\n",
       "  </tbody>\n",
       "</table>\n",
       "<p>448 rows × 7 columns</p>\n",
       "</div>"
      ],
      "text/plain": [
       "    product_group                  model_unique    price_usd        country  \\\n",
       "0          iphone                     iPhone 13   864.960756      Australia   \n",
       "1          iphone                     iPhone SE   489.831821      Australia   \n",
       "2          iphone                     iPhone 12   720.680397      Australia   \n",
       "3         AirPods       AirPods(3nd generation)   201.271102      Australia   \n",
       "4         AirPods                   AirPods Pro   287.839318      Australia   \n",
       "..            ...                           ...          ...            ...   \n",
       "443          ipad                      iPad Pro   799.000000  United States   \n",
       "444   Accessories  Apple Pencil(2nd generation)   129.000000  United States   \n",
       "445           Mac                  24-inch iMac  1299.000000  United States   \n",
       "446           Mac                   MacBook Air   999.000000  United States   \n",
       "447   Accessories                   Magic Mouse    79.000000  United States   \n",
       "\n",
       "    country_code               region income group  \n",
       "0             AU  East Asia & Pacific  High income  \n",
       "1             AU  East Asia & Pacific  High income  \n",
       "2             AU  East Asia & Pacific  High income  \n",
       "3             AU  East Asia & Pacific  High income  \n",
       "4             AU  East Asia & Pacific  High income  \n",
       "..           ...                  ...          ...  \n",
       "443           US        North America  High income  \n",
       "444           US        North America  High income  \n",
       "445           US        North America  High income  \n",
       "446           US        North America  High income  \n",
       "447           US        North America  High income  \n",
       "\n",
       "[448 rows x 7 columns]"
      ]
     },
     "execution_count": 34,
     "metadata": {},
     "output_type": "execute_result"
    }
   ],
   "source": [
    "# create a new dataframe with the columns needed to the analysis\n",
    "clean_df= df[['product_group', 'model_unique', 'price_usd', 'country','country_code' , 'region', 'income group']]\n",
    "clean_df"
   ]
  },
  {
   "cell_type": "markdown",
   "id": "7f775a3f-17e2-4cdd-b4d6-4ac579ea799b",
   "metadata": {
    "tags": []
   },
   "source": [
    "<b>data cleaning steps: \n",
    "    \n",
    "    1. transform the price column to clean one, that has fix price without monthly plan, deleting any charachters. \n",
    "    \n",
    "    2. calculation of the countries price to usd price for all data\n",
    "    \n",
    "    3. cleaning the model column and groupit to same model in universal language\n",
    "    \n",
    "    4. create a new column of product group that contains this groups( airpods, iphone, ipad, mac, apple tv, accessories and apple watch) </b>"
   ]
  },
  {
   "cell_type": "markdown",
   "id": "75465fd5-9e25-4d33-9b04-7d7171815cbb",
   "metadata": {},
   "source": [
    "### 3) Prepare"
   ]
  },
  {
   "cell_type": "code",
   "execution_count": 35,
   "id": "ffb86896-8c86-49d1-b349-49bb8dafe0c1",
   "metadata": {
    "execution": {
     "iopub.execute_input": "2022-11-20T19:21:45.508803Z",
     "iopub.status.busy": "2022-11-20T19:21:45.508488Z",
     "iopub.status.idle": "2022-11-20T19:21:45.513778Z",
     "shell.execute_reply": "2022-11-20T19:21:45.513092Z",
     "shell.execute_reply.started": "2022-11-20T19:21:45.508772Z"
    },
    "tags": []
   },
   "outputs": [],
   "source": [
    "#average price of products groups\n",
    "products_group = clean_df.groupby('product_group')['price_usd'].mean().dropna()"
   ]
  },
  {
   "cell_type": "code",
   "execution_count": 36,
   "id": "2546aa3e-9411-48de-98d7-2f79e15c29a0",
   "metadata": {
    "execution": {
     "iopub.execute_input": "2022-11-20T19:21:45.980381Z",
     "iopub.status.busy": "2022-11-20T19:21:45.980105Z",
     "iopub.status.idle": "2022-11-20T19:21:45.985594Z",
     "shell.execute_reply": "2022-11-20T19:21:45.985018Z",
     "shell.execute_reply.started": "2022-11-20T19:21:45.980355Z"
    },
    "tags": []
   },
   "outputs": [
    {
     "data": {
      "text/plain": [
       "array(['iPhone 13', 'iPhone SE', 'iPhone 12', 'AirPods(3nd generation)',\n",
       "       'AirPods Pro', 'AirPods(2nd generation)', 'AirPods Max',\n",
       "       'Apple TV 4K', 'Apple Watch SE', 'Apple Watch Series 3',\n",
       "       'Sport Band', 'iPad', 'iPad Pro', 'Apple Pencil(2nd generation)',\n",
       "       '24-inch iMac', 'MacBook Air', 'Magic Mouse', 'Apple TV HD',\n",
       "       'iPhone 13 Pro', 'App Store and iTunes Gift Card'], dtype=object)"
      ]
     },
     "execution_count": 36,
     "metadata": {},
     "output_type": "execute_result"
    }
   ],
   "source": [
    "df['model_unique'].unique()"
   ]
  },
  {
   "cell_type": "code",
   "execution_count": 37,
   "id": "df6227ff-2aa2-4dcf-9452-134240dcadc5",
   "metadata": {
    "execution": {
     "iopub.execute_input": "2022-11-20T19:21:46.391245Z",
     "iopub.status.busy": "2022-11-20T19:21:46.390968Z",
     "iopub.status.idle": "2022-11-20T19:21:46.397604Z",
     "shell.execute_reply": "2022-11-20T19:21:46.396818Z",
     "shell.execute_reply.started": "2022-11-20T19:21:46.391219Z"
    },
    "tags": []
   },
   "outputs": [],
   "source": [
    "# query a iphone subset\n",
    "iphone= clean_df.query(\"product_group=='iphone'\")"
   ]
  },
  {
   "cell_type": "code",
   "execution_count": 38,
   "id": "bb6adc9e-1ec5-4f29-88f4-43e212b12c7a",
   "metadata": {
    "execution": {
     "iopub.execute_input": "2022-11-20T19:21:47.126030Z",
     "iopub.status.busy": "2022-11-20T19:21:47.125626Z",
     "iopub.status.idle": "2022-11-20T19:21:47.131320Z",
     "shell.execute_reply": "2022-11-20T19:21:47.130498Z",
     "shell.execute_reply.started": "2022-11-20T19:21:47.125988Z"
    },
    "tags": []
   },
   "outputs": [],
   "source": [
    "#iphone products  averages price acroos countries \n",
    "iphone_averages= iphone.groupby('country')['price_usd'].mean().sort_values(ascending= False)"
   ]
  },
  {
   "cell_type": "code",
   "execution_count": 39,
   "id": "81fa90a5-e7f9-4a74-9dc2-1fba014b200e",
   "metadata": {
    "execution": {
     "iopub.execute_input": "2022-11-20T19:21:47.397705Z",
     "iopub.status.busy": "2022-11-20T19:21:47.397168Z",
     "iopub.status.idle": "2022-11-20T19:21:47.402670Z",
     "shell.execute_reply": "2022-11-20T19:21:47.401839Z",
     "shell.execute_reply.started": "2022-11-20T19:21:47.397677Z"
    },
    "tags": []
   },
   "outputs": [],
   "source": [
    "# group by regions to get prices averages of apple products\n",
    "regions_averages= clean_df.groupby('region')['price_usd'].mean().sort_values(ascending= False)"
   ]
  },
  {
   "cell_type": "code",
   "execution_count": 40,
   "id": "ea272b73-f504-4b7a-aba7-bed62003ec6a",
   "metadata": {
    "execution": {
     "iopub.execute_input": "2022-11-20T19:21:47.607319Z",
     "iopub.status.busy": "2022-11-20T19:21:47.607026Z",
     "iopub.status.idle": "2022-11-20T19:21:47.612561Z",
     "shell.execute_reply": "2022-11-20T19:21:47.611755Z",
     "shell.execute_reply.started": "2022-11-20T19:21:47.607293Z"
    },
    "tags": []
   },
   "outputs": [],
   "source": [
    "# group by countries to get prices averages of apple products\n",
    "countries_averages= clean_df.groupby('country')['price_usd'].mean().sort_values(ascending= False)"
   ]
  },
  {
   "cell_type": "code",
   "execution_count": 41,
   "id": "471e5c76-7629-4152-99b6-51f55909c402",
   "metadata": {
    "execution": {
     "iopub.execute_input": "2022-11-20T19:21:47.860395Z",
     "iopub.status.busy": "2022-11-20T19:21:47.860102Z",
     "iopub.status.idle": "2022-11-20T19:21:47.864098Z",
     "shell.execute_reply": "2022-11-20T19:21:47.863227Z",
     "shell.execute_reply.started": "2022-11-20T19:21:47.860367Z"
    },
    "tags": []
   },
   "outputs": [],
   "source": [
    "#countires_list = countries_averages.value_counts().index[0:26].tolist()\n",
    "countires_list = countries_averages.index[0:26].tolist()"
   ]
  },
  {
   "cell_type": "code",
   "execution_count": 42,
   "id": "8f01515c-980f-4732-be2f-6e487519b1ca",
   "metadata": {
    "execution": {
     "iopub.execute_input": "2022-11-20T19:21:48.163433Z",
     "iopub.status.busy": "2022-11-20T19:21:48.163167Z",
     "iopub.status.idle": "2022-11-20T19:21:48.168140Z",
     "shell.execute_reply": "2022-11-20T19:21:48.167488Z",
     "shell.execute_reply.started": "2022-11-20T19:21:48.163407Z"
    },
    "tags": []
   },
   "outputs": [],
   "source": [
    "# group by income groups to get prices averages of apple producrs \n",
    "incomes= clean_df.groupby('income group')['price_usd'].mean().sort_values(ascending= False)"
   ]
  },
  {
   "cell_type": "code",
   "execution_count": 43,
   "id": "d02c759e-d7ae-4f54-87ef-0faad8d8f807",
   "metadata": {
    "execution": {
     "iopub.execute_input": "2022-11-20T19:21:48.593238Z",
     "iopub.status.busy": "2022-11-20T19:21:48.592964Z",
     "iopub.status.idle": "2022-11-20T19:21:48.599065Z",
     "shell.execute_reply": "2022-11-20T19:21:48.598338Z",
     "shell.execute_reply.started": "2022-11-20T19:21:48.593211Z"
    },
    "tags": []
   },
   "outputs": [],
   "source": [
    "# group by income and groups to get prices averages of apple products\n",
    "income_and_groups= clean_df.groupby(['income group','product_group'])['price_usd'].mean().dropna().sort_values(ascending= False)"
   ]
  },
  {
   "cell_type": "code",
   "execution_count": 44,
   "id": "928ec8c7-ce31-4fe0-a02a-a59f54654eb6",
   "metadata": {
    "execution": {
     "iopub.execute_input": "2022-11-20T19:21:48.997247Z",
     "iopub.status.busy": "2022-11-20T19:21:48.996965Z",
     "iopub.status.idle": "2022-11-20T19:21:49.003672Z",
     "shell.execute_reply": "2022-11-20T19:21:49.002971Z",
     "shell.execute_reply.started": "2022-11-20T19:21:48.997221Z"
    },
    "tags": []
   },
   "outputs": [],
   "source": [
    "# group by income and models to get prices averages of apple products\n",
    "income_and_models= clean_df.groupby(['income group','model_unique'])['price_usd'].mean().dropna().sort_values(ascending= False)"
   ]
  },
  {
   "cell_type": "markdown",
   "id": "6b8bdd12-8cc9-4eae-960b-2295718f849b",
   "metadata": {
    "tags": []
   },
   "source": [
    "### 4) Analyze"
   ]
  },
  {
   "cell_type": "code",
   "execution_count": 45,
   "id": "6bd07b37-1ec4-4e4f-adde-2cc34bb0139e",
   "metadata": {
    "execution": {
     "iopub.execute_input": "2022-11-20T19:21:51.860227Z",
     "iopub.status.busy": "2022-11-20T19:21:51.859907Z",
     "iopub.status.idle": "2022-11-20T19:21:51.930112Z",
     "shell.execute_reply": "2022-11-20T19:21:51.929489Z",
     "shell.execute_reply.started": "2022-11-20T19:21:51.860195Z"
    },
    "tags": []
   },
   "outputs": [
    {
     "data": {
      "text/html": [
       "<style type=\"text/css\">\n",
       "</style>\n",
       "<table id=\"T_781b5\">\n",
       "  <thead>\n",
       "    <tr>\n",
       "      <th class=\"blank level0\" >&nbsp;</th>\n",
       "      <th id=\"T_781b5_level0_col0\" class=\"col_heading level0 col0\" colspan=\"3\">price_usd</th>\n",
       "    </tr>\n",
       "    <tr>\n",
       "      <th class=\"index_name level1\" >income group</th>\n",
       "      <th id=\"T_781b5_level1_col0\" class=\"col_heading level1 col0\" >High income</th>\n",
       "      <th id=\"T_781b5_level1_col1\" class=\"col_heading level1 col1\" >Lower middle income</th>\n",
       "      <th id=\"T_781b5_level1_col2\" class=\"col_heading level1 col2\" >Upper middle income</th>\n",
       "    </tr>\n",
       "    <tr>\n",
       "      <th class=\"index_name level0\" >model_unique</th>\n",
       "      <th class=\"blank col0\" >&nbsp;</th>\n",
       "      <th class=\"blank col1\" >&nbsp;</th>\n",
       "      <th class=\"blank col2\" >&nbsp;</th>\n",
       "    </tr>\n",
       "  </thead>\n",
       "  <tbody>\n",
       "    <tr>\n",
       "      <th id=\"T_781b5_level0_row0\" class=\"row_heading level0 row0\" >24-inch iMac</th>\n",
       "      <td id=\"T_781b5_row0_col0\" class=\"data row0 col0\" >$1,620.69</td>\n",
       "      <td id=\"T_781b5_row0_col1\" class=\"data row0 col1\" >$1,525.90</td>\n",
       "      <td id=\"T_781b5_row0_col2\" class=\"data row0 col2\" >$1,836.45</td>\n",
       "    </tr>\n",
       "    <tr>\n",
       "      <th id=\"T_781b5_level0_row1\" class=\"row_heading level0 row1\" >iPhone 13 Pro</th>\n",
       "      <td id=\"T_781b5_row1_col0\" class=\"data row1 col0\" >$1,327.15</td>\n",
       "      <td id=\"T_781b5_row1_col1\" class=\"data row1 col1\" >?</td>\n",
       "      <td id=\"T_781b5_row1_col2\" class=\"data row1 col2\" >$1,402.05</td>\n",
       "    </tr>\n",
       "    <tr>\n",
       "      <th id=\"T_781b5_level0_row2\" class=\"row_heading level0 row2\" >MacBook Air</th>\n",
       "      <td id=\"T_781b5_row2_col0\" class=\"data row2 col0\" >$1,260.92</td>\n",
       "      <td id=\"T_781b5_row2_col1\" class=\"data row2 col1\" >$1,159.49</td>\n",
       "      <td id=\"T_781b5_row2_col2\" class=\"data row2 col2\" >$1,401.00</td>\n",
       "    </tr>\n",
       "    <tr>\n",
       "      <th id=\"T_781b5_level0_row3\" class=\"row_heading level0 row3\" >iPad Pro</th>\n",
       "      <td id=\"T_781b5_row3_col0\" class=\"data row3 col0\" >$981.16</td>\n",
       "      <td id=\"T_781b5_row3_col1\" class=\"data row3 col1\" >$930.83</td>\n",
       "      <td id=\"T_781b5_row3_col2\" class=\"data row3 col2\" >$1,141.01</td>\n",
       "    </tr>\n",
       "    <tr>\n",
       "      <th id=\"T_781b5_level0_row4\" class=\"row_heading level0 row4\" >iPhone 13</th>\n",
       "      <td id=\"T_781b5_row4_col0\" class=\"data row4 col0\" >$894.35</td>\n",
       "      <td id=\"T_781b5_row4_col1\" class=\"data row4 col1\" >$907.66</td>\n",
       "      <td id=\"T_781b5_row4_col2\" class=\"data row4 col2\" >$971.79</td>\n",
       "    </tr>\n",
       "    <tr>\n",
       "      <th id=\"T_781b5_level0_row5\" class=\"row_heading level0 row5\" >iPhone 12</th>\n",
       "      <td id=\"T_781b5_row5_col0\" class=\"data row5 col0\" >$764.64</td>\n",
       "      <td id=\"T_781b5_row5_col1\" class=\"data row5 col1\" >$782.06</td>\n",
       "      <td id=\"T_781b5_row5_col2\" class=\"data row5 col2\" >$827.39</td>\n",
       "    </tr>\n",
       "    <tr>\n",
       "      <th id=\"T_781b5_level0_row6\" class=\"row_heading level0 row6\" >AirPods Max</th>\n",
       "      <td id=\"T_781b5_row6_col0\" class=\"data row6 col0\" >$672.97</td>\n",
       "      <td id=\"T_781b5_row6_col1\" class=\"data row6 col1\" >$803.94</td>\n",
       "      <td id=\"T_781b5_row6_col2\" class=\"data row6 col2\" >$666.72</td>\n",
       "    </tr>\n",
       "    <tr>\n",
       "      <th id=\"T_781b5_level0_row7\" class=\"row_heading level0 row7\" >iPhone SE</th>\n",
       "      <td id=\"T_781b5_row7_col0\" class=\"data row7 col0\" >$534.93</td>\n",
       "      <td id=\"T_781b5_row7_col1\" class=\"data row7 col1\" >$525.99</td>\n",
       "      <td id=\"T_781b5_row7_col2\" class=\"data row7 col2\" >$550.54</td>\n",
       "    </tr>\n",
       "    <tr>\n",
       "      <th id=\"T_781b5_level0_row8\" class=\"row_heading level0 row8\" >iPad</th>\n",
       "      <td id=\"T_781b5_row8_col0\" class=\"data row8 col0\" >$422.29</td>\n",
       "      <td id=\"T_781b5_row8_col1\" class=\"data row8 col1\" >$402.23</td>\n",
       "      <td id=\"T_781b5_row8_col2\" class=\"data row8 col2\" >$457.77</td>\n",
       "    </tr>\n",
       "    <tr>\n",
       "      <th id=\"T_781b5_level0_row9\" class=\"row_heading level0 row9\" >Apple Watch SE</th>\n",
       "      <td id=\"T_781b5_row9_col0\" class=\"data row9 col0\" >$336.29</td>\n",
       "      <td id=\"T_781b5_row9_col1\" class=\"data row9 col1\" >$356.53</td>\n",
       "      <td id=\"T_781b5_row9_col2\" class=\"data row9 col2\" >$396.14</td>\n",
       "    </tr>\n",
       "    <tr>\n",
       "      <th id=\"T_781b5_level0_row10\" class=\"row_heading level0 row10\" >AirPods Pro</th>\n",
       "      <td id=\"T_781b5_row10_col0\" class=\"data row10 col0\" >$311.09</td>\n",
       "      <td id=\"T_781b5_row10_col1\" class=\"data row10 col1\" >$313.23</td>\n",
       "      <td id=\"T_781b5_row10_col2\" class=\"data row10 col2\" >$341.84</td>\n",
       "    </tr>\n",
       "    <tr>\n",
       "      <th id=\"T_781b5_level0_row11\" class=\"row_heading level0 row11\" >Apple Watch Series 3</th>\n",
       "      <td id=\"T_781b5_row11_col0\" class=\"data row11 col0\" >$243.06</td>\n",
       "      <td id=\"T_781b5_row11_col1\" class=\"data row11 col1\" >$252.26</td>\n",
       "      <td id=\"T_781b5_row11_col2\" class=\"data row11 col2\" >$274.02</td>\n",
       "    </tr>\n",
       "    <tr>\n",
       "      <th id=\"T_781b5_level0_row12\" class=\"row_heading level0 row12\" >AirPods(3nd generation)</th>\n",
       "      <td id=\"T_781b5_row12_col0\" class=\"data row12 col0\" >$220.71</td>\n",
       "      <td id=\"T_781b5_row12_col1\" class=\"data row12 col1\" >$231.28</td>\n",
       "      <td id=\"T_781b5_row12_col2\" class=\"data row12 col2\" >$209.29</td>\n",
       "    </tr>\n",
       "    <tr>\n",
       "      <th id=\"T_781b5_level0_row13\" class=\"row_heading level0 row13\" >Apple TV 4K</th>\n",
       "      <td id=\"T_781b5_row13_col0\" class=\"data row13 col0\" >$217.04</td>\n",
       "      <td id=\"T_781b5_row13_col1\" class=\"data row13 col1\" >$233.97</td>\n",
       "      <td id=\"T_781b5_row13_col2\" class=\"data row13 col2\" >$257.47</td>\n",
       "    </tr>\n",
       "    <tr>\n",
       "      <th id=\"T_781b5_level0_row14\" class=\"row_heading level0 row14\" >Apple TV HD</th>\n",
       "      <td id=\"T_781b5_row14_col0\" class=\"data row14 col0\" >$184.39</td>\n",
       "      <td id=\"T_781b5_row14_col1\" class=\"data row14 col1\" >$194.34</td>\n",
       "      <td id=\"T_781b5_row14_col2\" class=\"data row14 col2\" >$222.75</td>\n",
       "    </tr>\n",
       "    <tr>\n",
       "      <th id=\"T_781b5_level0_row15\" class=\"row_heading level0 row15\" >AirPods(2nd generation)</th>\n",
       "      <td id=\"T_781b5_row15_col0\" class=\"data row15 col0\" >$163.86</td>\n",
       "      <td id=\"T_781b5_row15_col1\" class=\"data row15 col1\" >$161.53</td>\n",
       "      <td id=\"T_781b5_row15_col2\" class=\"data row15 col2\" >$182.06</td>\n",
       "    </tr>\n",
       "    <tr>\n",
       "      <th id=\"T_781b5_level0_row16\" class=\"row_heading level0 row16\" >Apple Pencil(2nd generation)</th>\n",
       "      <td id=\"T_781b5_row16_col0\" class=\"data row16 col0\" >$152.26</td>\n",
       "      <td id=\"T_781b5_row16_col1\" class=\"data row16 col1\" >$151.04</td>\n",
       "      <td id=\"T_781b5_row16_col2\" class=\"data row16 col2\" >$168.95</td>\n",
       "    </tr>\n",
       "    <tr>\n",
       "      <th id=\"T_781b5_level0_row17\" class=\"row_heading level0 row17\" >Magic Mouse</th>\n",
       "      <td id=\"T_781b5_row17_col0\" class=\"data row17 col0\" >$94.99</td>\n",
       "      <td id=\"T_781b5_row17_col1\" class=\"data row17 col1\" >$89.23</td>\n",
       "      <td id=\"T_781b5_row17_col2\" class=\"data row17 col2\" >$103.54</td>\n",
       "    </tr>\n",
       "    <tr>\n",
       "      <th id=\"T_781b5_level0_row18\" class=\"row_heading level0 row18\" >Sport Band</th>\n",
       "      <td id=\"T_781b5_row18_col0\" class=\"data row18 col0\" >$54.08</td>\n",
       "      <td id=\"T_781b5_row18_col1\" class=\"data row18 col1\" >$53.37</td>\n",
       "      <td id=\"T_781b5_row18_col2\" class=\"data row18 col2\" >$58.55</td>\n",
       "    </tr>\n",
       "  </tbody>\n",
       "</table>\n"
      ],
      "text/plain": [
       "<pandas.io.formats.style.Styler at 0x7fcab0d54d60>"
      ]
     },
     "execution_count": 45,
     "metadata": {},
     "output_type": "execute_result"
    }
   ],
   "source": [
    "#model prices across income group\n",
    "pivot= clean_df.groupby([\"model_unique\", \"income group\"], as_index=False)[\"price_usd\"].mean().dropna().pivot(columns=\"income group\", index=\"model_unique\").sort_values(by=(\"price_usd\", \"High income\"), ascending=False).style.format(\"${:,.2f}\", na_rep=\"?\")\n",
    "pivot"
   ]
  },
  {
   "cell_type": "code",
   "execution_count": 46,
   "id": "1f293d95-7856-46a2-83f6-e8285f6648b9",
   "metadata": {
    "execution": {
     "iopub.execute_input": "2022-11-20T19:21:52.308290Z",
     "iopub.status.busy": "2022-11-20T19:21:52.307978Z",
     "iopub.status.idle": "2022-11-20T19:21:52.823978Z",
     "shell.execute_reply": "2022-11-20T19:21:52.823128Z",
     "shell.execute_reply.started": "2022-11-20T19:21:52.308259Z"
    },
    "tags": []
   },
   "outputs": [
    {
     "name": "stderr",
     "output_type": "stream",
     "text": [
      "/Users/edlinedallal/opt/anaconda3/lib/python3.9/site-packages/seaborn/_decorators.py:36: FutureWarning: Pass the following variables as keyword args: x, y. From version 0.12, the only valid positional argument will be `data`, and passing other arguments without an explicit keyword will result in an error or misinterpretation.\n",
      "  warnings.warn(\n"
     ]
    },
    {
     "data": {
      "image/png": "[encoded data removed]",
      "text/plain": [
       "<Figure size 1440x576 with 1 Axes>"
      ]
     },
     "metadata": {
      "needs_background": "light"
     },
     "output_type": "display_data"
    }
   ],
   "source": [
    "# Plot count of member and casual riders over the months  option 2:\n",
    "y= list(countries_averages.values)\n",
    "x_countries = countries_averages.index\n",
    "plt.figure(figsize=(20,8))\n",
    "ax= sns.barplot(y, x_countries)\n",
    "plt.title('Apple products Averages Across Countries', size= 20)\n",
    "plt.ylabel('Country', size= 15)\n",
    "plt.xlabel('Average Price $', size= 15)\n",
    "ax.bar_label(ax.containers[0], fmt='%.2f$')\n",
    "plt.show()"
   ]
  },
  {
   "cell_type": "code",
   "execution_count": 47,
   "id": "a3c4be5a-201b-4e96-8497-377c53bf94ac",
   "metadata": {
    "execution": {
     "iopub.execute_input": "2022-11-20T19:21:53.394896Z",
     "iopub.status.busy": "2022-11-20T19:21:53.394602Z",
     "iopub.status.idle": "2022-11-20T19:21:53.867025Z",
     "shell.execute_reply": "2022-11-20T19:21:53.866275Z",
     "shell.execute_reply.started": "2022-11-20T19:21:53.394867Z"
    },
    "tags": []
   },
   "outputs": [
    {
     "name": "stderr",
     "output_type": "stream",
     "text": [
      "/Users/edlinedallal/opt/anaconda3/lib/python3.9/site-packages/seaborn/_decorators.py:36: FutureWarning: Pass the following variables as keyword args: x, y. From version 0.12, the only valid positional argument will be `data`, and passing other arguments without an explicit keyword will result in an error or misinterpretation.\n",
      "  warnings.warn(\n"
     ]
    },
    {
     "data": {
      "image/png": "[encoded data removed]",
      "text/plain": [
       "<Figure size 1440x576 with 1 Axes>"
      ]
     },
     "metadata": {
      "needs_background": "light"
     },
     "output_type": "display_data"
    }
   ],
   "source": [
    "# how much each country pays for iphone? \n",
    "y_iphone= iphone_averages.values\n",
    "x_countries= iphone_averages.index\n",
    "plt.figure(figsize=(20,8))\n",
    "ax=sns.barplot( y_iphone,x_countries)\n",
    "plt.title('iphone Average Price Across Countries', size= 20)\n",
    "plt.ylabel('Country', size= 15)\n",
    "plt.xlabel('Average Price $', size= 15)\n",
    "ax.bar_label(ax.containers[0], fmt='%.2f$')\n",
    "plt.show()"
   ]
  },
  {
   "cell_type": "code",
   "execution_count": 48,
   "id": "0c31f8e4-32c0-4c7c-9df7-3f539a0b06a4",
   "metadata": {
    "execution": {
     "iopub.execute_input": "2022-11-20T19:21:54.010606Z",
     "iopub.status.busy": "2022-11-20T19:21:54.010318Z",
     "iopub.status.idle": "2022-11-20T19:21:54.181462Z",
     "shell.execute_reply": "2022-11-20T19:21:54.180701Z",
     "shell.execute_reply.started": "2022-11-20T19:21:54.010577Z"
    },
    "tags": []
   },
   "outputs": [
    {
     "data": {
      "image/png": "[encoded data removed]",
      "text/plain": [
       "<Figure size 720x288 with 1 Axes>"
      ]
     },
     "metadata": {
      "needs_background": "light"
     },
     "output_type": "display_data"
    }
   ],
   "source": [
    "# how much each region pays for apple products? \n",
    "y_region= list(regions_averages.values)\n",
    "x_region = regions_averages.index\n",
    "plt.figure(figsize=(10,4))\n",
    "ax= sns.barplot(x= y_region,y=  x_region  ,  palette = 'viridis')\n",
    "plt.title('Regional Average Price of Apple products', size= 15)\n",
    "plt.ylabel('Regions', size= 13)\n",
    "plt.xlabel('Average Price $', size= 13)\n",
    "ax.bar_label(ax.containers[0], fmt='%.2f$')\n",
    "plt.show()"
   ]
  },
  {
   "cell_type": "code",
   "execution_count": 49,
   "id": "11c6f75b-c970-4893-a226-2101b125f0c0",
   "metadata": {
    "execution": {
     "iopub.execute_input": "2022-11-20T19:21:54.547652Z",
     "iopub.status.busy": "2022-11-20T19:21:54.547378Z",
     "iopub.status.idle": "2022-11-20T19:21:54.684730Z",
     "shell.execute_reply": "2022-11-20T19:21:54.683979Z",
     "shell.execute_reply.started": "2022-11-20T19:21:54.547626Z"
    },
    "tags": []
   },
   "outputs": [
    {
     "name": "stderr",
     "output_type": "stream",
     "text": [
      "/Users/edlinedallal/opt/anaconda3/lib/python3.9/site-packages/seaborn/_decorators.py:36: FutureWarning: Pass the following variables as keyword args: x, y. From version 0.12, the only valid positional argument will be `data`, and passing other arguments without an explicit keyword will result in an error or misinterpretation.\n",
      "  warnings.warn(\n"
     ]
    },
    {
     "data": {
      "image/png": "[encoded data removed]",
      "text/plain": [
       "<Figure size 720x288 with 1 Axes>"
      ]
     },
     "metadata": {
      "needs_background": "light"
     },
     "output_type": "display_data"
    }
   ],
   "source": [
    "# plot averages of incomes group\n",
    "x2=incomes.index\n",
    "y2=incomes.values\n",
    "plt.figure(figsize=(10,4))\n",
    "ax= sns.barplot(y2, x2 , palette = 'viridis')\n",
    "plt.title('Apple products Averages Across Income Groups')\n",
    "plt.ylabel('Income Grouop', size= 13)\n",
    "plt.xlabel('Average Price $', size= 13)\n",
    "ax.bar_label(ax.containers[0], fmt='%.2f$')\n",
    "plt.show()"
   ]
  },
  {
   "cell_type": "code",
   "execution_count": 50,
   "id": "a0127e2c-74c2-48a8-af27-468715866e2a",
   "metadata": {
    "execution": {
     "iopub.execute_input": "2022-11-20T19:21:55.099554Z",
     "iopub.status.busy": "2022-11-20T19:21:55.099280Z",
     "iopub.status.idle": "2022-11-20T19:21:55.508723Z",
     "shell.execute_reply": "2022-11-20T19:21:55.508058Z",
     "shell.execute_reply.started": "2022-11-20T19:21:55.099529Z"
    },
    "tags": []
   },
   "outputs": [
    {
     "name": "stderr",
     "output_type": "stream",
     "text": [
      "/Users/edlinedallal/opt/anaconda3/lib/python3.9/site-packages/seaborn/_decorators.py:36: FutureWarning: Pass the following variables as keyword args: x, y. From version 0.12, the only valid positional argument will be `data`, and passing other arguments without an explicit keyword will result in an error or misinterpretation.\n",
      "  warnings.warn(\n"
     ]
    },
    {
     "data": {
      "image/png": "[encoded data removed]",
      "text/plain": [
       "<Figure size 1296x432 with 1 Axes>"
      ]
     },
     "metadata": {
      "needs_background": "light"
     },
     "output_type": "display_data"
    }
   ],
   "source": [
    "# plot averages of incomes group across products categories\n",
    "#defines the axises \n",
    "y_income_and_groups= list(income_and_groups.values)\n",
    "x_income_and_groups= []\n",
    "list_groups=[]\n",
    "for i,j in income_and_groups.index:\n",
    "    x_income_and_groups.append(j)\n",
    "    list_groups.append(str(i)) \n",
    "# plt\n",
    "plt.figure(figsize=(18,6))\n",
    "ax= sns.barplot(y_income_and_groups, x_income_and_groups , hue= list_groups, palette = 'pastel')\n",
    "plt.title('Apple products Averages Across Income Groups', size= 20)\n",
    "plt.ylabel('Products Categories', size= 15)\n",
    "plt.xlabel('Average Price $', size= 15)\n",
    "plt.show()"
   ]
  },
  {
   "cell_type": "code",
   "execution_count": 51,
   "id": "2a705b71-4b2b-4057-b761-6ad03ab40d55",
   "metadata": {
    "execution": {
     "iopub.execute_input": "2022-11-20T19:21:56.179903Z",
     "iopub.status.busy": "2022-11-20T19:21:56.179586Z",
     "iopub.status.idle": "2022-11-20T19:21:56.703751Z",
     "shell.execute_reply": "2022-11-20T19:21:56.702926Z",
     "shell.execute_reply.started": "2022-11-20T19:21:56.179871Z"
    },
    "tags": []
   },
   "outputs": [
    {
     "name": "stderr",
     "output_type": "stream",
     "text": [
      "/Users/edlinedallal/opt/anaconda3/lib/python3.9/site-packages/seaborn/_decorators.py:36: FutureWarning: Pass the following variables as keyword args: x, y. From version 0.12, the only valid positional argument will be `data`, and passing other arguments without an explicit keyword will result in an error or misinterpretation.\n",
      "  warnings.warn(\n"
     ]
    },
    {
     "data": {
      "image/png": "[encoded data removed]",
      "text/plain": [
       "<Figure size 864x1080 with 1 Axes>"
      ]
     },
     "metadata": {
      "needs_background": "light"
     },
     "output_type": "display_data"
    }
   ],
   "source": [
    "# plot averages of incomes group across models\n",
    "#defines the axises \n",
    "y_models= list(income_and_models.values)\n",
    "x_models= []\n",
    "list_models=[]\n",
    "for i,j in income_and_models.index:\n",
    "    x_models.append(j)\n",
    "    list_models.append(str(i))\n",
    "# plt\n",
    "plt.figure(figsize=(12,15))\n",
    "sns.barplot( y_models, x_models, hue= list_models, palette = 'pastel')\n",
    "plt.title('Apple products Averages Across Income Groups', size= 20)\n",
    "plt.xlabel('Products Categories', size= 15)\n",
    "plt.ylabel('Products Categories', size= 15, )\n",
    "plt.xlabel('Average Price $', size= 15)\n",
    "#plt.xticks(rotation=90)\n",
    "plt.show()"
   ]
  },
  {
   "cell_type": "markdown",
   "id": "aea18015-dbd4-4187-b8fd-303014d5ed21",
   "metadata": {},
   "source": [
    "### 5) Share"
   ]
  },
  {
   "cell_type": "markdown",
   "id": "9e1fff14-fab4-4e06-94db-ee4d7c63b4a8",
   "metadata": {
    "execution": {
     "iopub.execute_input": "2022-11-18T14:29:01.867680Z",
     "iopub.status.busy": "2022-11-18T14:29:01.867169Z",
     "iopub.status.idle": "2022-11-18T14:29:01.872674Z",
     "shell.execute_reply": "2022-11-18T14:29:01.871677Z",
     "shell.execute_reply.started": "2022-11-18T14:29:01.867656Z"
    }
   },
   "source": [
    "# analysis Question:\n",
    "### <b>1. What is the average price costumers pay for Apple products within 26 countries?\n",
    "### <b>2. What is the average price of Apple products in each region?\n",
    "\n",
    "### <b>3. What is the correlation between the World Bank income group and the product's prices?</b>"
   ]
  },
  {
   "cell_type": "markdown",
   "id": "27e9cbb8-7b7e-4a6b-8138-a7c213cc9cc9",
   "metadata": {},
   "source": [
    "- <b>Observing apple products average price across the 26 countries make us wonder about the big differnces between all countries. Brazil in particular, has the highest averag price of Apple products, 882 dollars, comparison to Thailand that stands on 417$ and the United states on 420 dollars. \n",
    "\n",
    "- <b>Almost all the products prices are the highest among Upper midlle income countries, this fact isn't obvious, the prices expected to be highest among High income countries.  we discovered also that the Airpods max and Airpods (3rd generation) prices is extremly high particularly in Lower midlle income countries. \n",
    "\n",
    "- <b>While analyzing the prices of  products  in Lower midlle income  in comparison to the High income countries, Quite number of products  have a higher price or the same price in Lower income countires such as: Sport Band, Apple Pencil, Airpods (2nd generation), Airpods (3nd generation), Apple TV 4K, Apple Watch Series 3, Airpods Pro, iphone SE, Airpods Max, iphone 12 and iphone 13.  This fact is not obvious, we can assume that Apple will determines a lower/ cheaper prices among Lower midlle income countries, but the data reveals the opposite. \n",
    " \n",
    "- <b>We can validate this analysis using the graph \"Apple products Average Across Income Groups\" which demonstrates the average of Upper midlle income countries that stands on 577$ , and the Lower midlle income countries, 495 dollars that is very close to the High income countires, 512 dollars. \n",
    "\n",
    "- <b>While analyzing the \"Apple products Averages Across Countries\" graph, the average products across countries is the highest in Brazil, while the lowest(Cheaper) average price is in the United States as expected and in Thailand and Canada, which is not surprisng. \n",
    "\n",
    "- <b>when observing the \"Regional Average Price of Apple products\" graph, it's very surprising to see the big difference between North America with Average price of  425 dollars which considered High income region and Latin America & Caribbean with average price of 711 dollars which considered Upper middle income region. "
   ]
  }
 ],
 "metadata": {
  "kernelspec": {
   "display_name": "Python 3 (ipykernel)",
   "language": "python",
   "name": "python3"
  },
  "language_info": {
   "codemirror_mode": {
    "name": "ipython",
    "version": 3
   },
   "file_extension": ".py",
   "mimetype": "text/x-python",
   "name": "python",
   "nbconvert_exporter": "python",
   "pygments_lexer": "ipython3",
   "version": "3.9.12"
  }
 },
 "nbformat": 4,
 "nbformat_minor": 5
}
